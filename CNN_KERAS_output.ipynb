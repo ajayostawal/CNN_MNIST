{
  "nbformat": 4,
  "nbformat_minor": 0,
  "metadata": {
    "colab": {
      "name": "CNN_KERAS_.ipynb",
      "provenance": [],
      "collapsed_sections": [],
      "authorship_tag": "ABX9TyMoIsY4BxJ3Usfgy7xisM7y",
      "include_colab_link": true
    },
    "kernelspec": {
      "name": "python3",
      "display_name": "Python 3"
    }
  },
  "cells": [
    {
      "cell_type": "markdown",
      "metadata": {
        "id": "view-in-github",
        "colab_type": "text"
      },
      "source": [
        "<a href=\"https://colab.research.google.com/github/ajayostawal/CNN_MNIST/blob/CNN_code/CNN_KERAS_output.ipynb\" target=\"_parent\"><img src=\"https://colab.research.google.com/assets/colab-badge.svg\" alt=\"Open In Colab\"/></a>"
      ]
    },
    {
      "cell_type": "code",
      "metadata": {
        "colab": {
          "base_uri": "https://localhost:8080/"
        },
        "id": "v4usrr6MsT2f",
        "outputId": "b0ee88f5-6299-47c7-ae33-b35e7811049d"
      },
      "source": [
        "import keras\r\n",
        "from keras import layers, models, optimizers\r\n",
        "from keras.datasets import mnist\r\n",
        "from keras.models import Sequential \r\n",
        "from keras.layers import Dense, Dropout, Flatten\r\n",
        "from keras.layers import Conv2D, MaxPooling2D\r\n",
        "\r\n",
        "#As keras has multiple builtin datasets  \r\n",
        "(x_train, y_train), (x_test, y_test) = mnist.load_data()\r\n",
        "\r\n",
        "print(x_train.shape,x_test.shape,y_train.shape,y_test.shape)\r\n",
        "\r\n",
        "#rehaping the image so that it can work with keras API \r\n",
        "#As keras API expect input in format of (number_of_images,rows,columns,dimension)\r\n",
        "x_train = x_train.reshape(x_train.shape[0],28,28,1)\r\n",
        "x_test = x_test.reshape(x_test.shape[0],28,28,1)\r\n",
        "print(x_train.shape,x_test.shape)\r\n",
        "\r\n",
        "#data scaling and normalization : basically done to make our algorithm make faster in processing\r\n",
        "x_train = x_train.astype(\"float32\")\r\n",
        "x_test = x_test.astype(\"float32\")\r\n",
        "\r\n",
        "#images from dark(black) to white denoted by [0,255]\r\n",
        "x_train /= 255 \r\n",
        "x_test /= 255 \r\n",
        "print(x_train.dtype,x_test.dtype)\r\n",
        "\r\n",
        "#to convert labels into one hot encoder using (to.categorical) so each and every classes will be independent to each other \r\n",
        "num_classes = 10\r\n",
        "y_train = keras.utils.to_categorical(y_train, num_classes)\r\n",
        "y_test = keras.utils.to_categorical(y_test, num_classes)\r\n",
        "print(y_train.shape)\r\n",
        "print(y_test.shape)\r\n",
        "\r\n",
        "#construct CNN\r\n",
        "#As i have multiple outputs layers from 0 to 9 , i should use Sequential model\r\n",
        "model = Sequential()\r\n",
        "\r\n",
        "# add number of filters , filter size , strides,padding =valid means no padding and p=same means same dimension will remain of input , input\r\n",
        "#relu is important because it introduces non-linearity and gives modified version of image\r\n",
        "#now input is multiplied with weights and add bias ...entering into hidden layer\r\n",
        "model.add(Conv2D(32,kernel_size=(3,3),strides=(1,1),padding='Same',activation='relu',input_shape=(28,28,1)))\r\n",
        "\r\n",
        "model.add(Conv2D(64,3,activation='relu'))\r\n",
        "\r\n",
        "#pooling is important to reduce the dimension of input and does not reduce the dimension of filters...(2,2) is filter which multiplies with input mask size\r\n",
        "model.add(MaxPooling2D(pool_size=(2,2)))\r\n",
        "\r\n",
        "\r\n",
        "model.add(Conv2D(64,3,padding='Same',activation='relu'))\r\n",
        "\r\n",
        "#dropout is use to randomly on off the neurons in network\r\n",
        "model.add(Dropout(0.25))\r\n",
        "\r\n",
        "#flatten : to pass pooling layer to fully-connected layer(dense) in 1-dimension array\r\n",
        "model.add(Flatten())\r\n",
        "\r\n",
        "model.add(Dense(128, activation='relu'))\r\n",
        "model.add(Dense(num_classes, activation='softmax'))\r\n",
        "\r\n",
        "optimizer = optimizers.Adam(learning_rate=0.001)\r\n",
        "model.compile(loss='categorical_crossentropy', optimizer=optimizer, metrics=['accuracy'])\r\n",
        "#train CNN\r\n",
        "model.fit(x_train, y_train,batch_size=128,epochs=10,verbose=1,validation_data=(x_test, y_test))"
      ],
      "execution_count": null,
      "outputs": [
        {
          "output_type": "stream",
          "text": [
            "(60000, 28, 28) (10000, 28, 28) (60000,) (10000,)\n",
            "(60000, 28, 28, 1) (10000, 28, 28, 1)\n",
            "float32 float32\n",
            "(60000, 10)\n",
            "(10000, 10)\n",
            "Epoch 1/10\n",
            "469/469 [==============================] - 226s 479ms/step - loss: 0.3134 - accuracy: 0.9007 - val_loss: 0.0415 - val_accuracy: 0.9858\n",
            "Epoch 2/10\n",
            "469/469 [==============================] - 225s 479ms/step - loss: 0.0401 - accuracy: 0.9878 - val_loss: 0.0258 - val_accuracy: 0.9915\n",
            "Epoch 3/10\n",
            "469/469 [==============================] - 224s 478ms/step - loss: 0.0268 - accuracy: 0.9908 - val_loss: 0.0274 - val_accuracy: 0.9911\n",
            "Epoch 4/10\n",
            "469/469 [==============================] - 224s 478ms/step - loss: 0.0185 - accuracy: 0.9938 - val_loss: 0.0321 - val_accuracy: 0.9906\n",
            "Epoch 5/10\n",
            "469/469 [==============================] - 226s 481ms/step - loss: 0.0131 - accuracy: 0.9957 - val_loss: 0.0257 - val_accuracy: 0.9917\n",
            "Epoch 6/10\n",
            "469/469 [==============================] - 225s 479ms/step - loss: 0.0121 - accuracy: 0.9963 - val_loss: 0.0282 - val_accuracy: 0.9913\n",
            "Epoch 7/10\n",
            "469/469 [==============================] - 224s 477ms/step - loss: 0.0101 - accuracy: 0.9968 - val_loss: 0.0386 - val_accuracy: 0.9895\n",
            "Epoch 8/10\n",
            "469/469 [==============================] - 224s 478ms/step - loss: 0.0076 - accuracy: 0.9973 - val_loss: 0.0264 - val_accuracy: 0.9921\n",
            "Epoch 9/10\n",
            "469/469 [==============================] - 223s 475ms/step - loss: 0.0066 - accuracy: 0.9977 - val_loss: 0.0291 - val_accuracy: 0.9922\n",
            "Epoch 10/10\n",
            "469/469 [==============================] - 223s 475ms/step - loss: 0.0072 - accuracy: 0.9975 - val_loss: 0.0376 - val_accuracy: 0.9902\n"
          ],
          "name": "stdout"
        },
        {
          "output_type": "execute_result",
          "data": {
            "text/plain": [
              "<tensorflow.python.keras.callbacks.History at 0x7f15645711d0>"
            ]
          },
          "metadata": {
            "tags": []
          },
          "execution_count": 5
        }
      ]
    },
    {
      "cell_type": "code",
      "metadata": {
        "colab": {
          "base_uri": "https://localhost:8080/"
        },
        "id": "S6423tVHbvio",
        "outputId": "463713eb-f307-4445-e2e8-6794c7993f61"
      },
      "source": [
        "model.summary()"
      ],
      "execution_count": null,
      "outputs": [
        {
          "output_type": "stream",
          "text": [
            "Model: \"sequential_3\"\n",
            "_________________________________________________________________\n",
            "Layer (type)                 Output Shape              Param #   \n",
            "=================================================================\n",
            "conv2d_7 (Conv2D)            (None, 28, 28, 32)        320       \n",
            "_________________________________________________________________\n",
            "conv2d_8 (Conv2D)            (None, 26, 26, 64)        18496     \n",
            "_________________________________________________________________\n",
            "max_pooling2d_3 (MaxPooling2 (None, 13, 13, 64)        0         \n",
            "_________________________________________________________________\n",
            "conv2d_9 (Conv2D)            (None, 13, 13, 64)        36928     \n",
            "_________________________________________________________________\n",
            "dropout_1 (Dropout)          (None, 13, 13, 64)        0         \n",
            "_________________________________________________________________\n",
            "flatten_1 (Flatten)          (None, 10816)             0         \n",
            "_________________________________________________________________\n",
            "dense_2 (Dense)              (None, 128)               1384576   \n",
            "_________________________________________________________________\n",
            "dense_3 (Dense)              (None, 10)                1290      \n",
            "=================================================================\n",
            "Total params: 1,441,610\n",
            "Trainable params: 1,441,610\n",
            "Non-trainable params: 0\n",
            "_________________________________________________________________\n"
          ],
          "name": "stdout"
        }
      ]
    },
    {
      "cell_type": "code",
      "metadata": {
        "colab": {
          "base_uri": "https://localhost:8080/"
        },
        "id": "GYS9iKIgcHnH",
        "outputId": "3bec2fb3-e117-4424-9100-386c274aff3e"
      },
      "source": [
        "score = model.evaluate(x_test, y_test, verbose=0)\r\n",
        "print('Test loss:', score[0])\r\n",
        "print('Test accuracy:', score[1])"
      ],
      "execution_count": null,
      "outputs": [
        {
          "output_type": "stream",
          "text": [
            "Test loss: 0.037605371326208115\n",
            "Test accuracy: 0.9901999831199646\n"
          ],
          "name": "stdout"
        }
      ]
    },
    {
      "cell_type": "code",
      "metadata": {
        "id": "lqr6tZLPS8aG"
      },
      "source": [
        ""
      ],
      "execution_count": null,
      "outputs": []
    }
  ]
}